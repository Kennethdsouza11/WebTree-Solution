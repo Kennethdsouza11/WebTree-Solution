{
 "cells": [
  {
   "cell_type": "markdown",
   "metadata": {},
   "source": [
    "## 1. Import Required Libraries"
   ]
  },
  {
   "cell_type": "code",
   "execution_count": null,
   "metadata": {},
   "outputs": [
    {
     "name": "stderr",
     "output_type": "stream",
     "text": [
      "[nltk_data] Downloading package stopwords to\n",
      "[nltk_data]     C:\\Users\\kenneth\\AppData\\Roaming\\nltk_data...\n",
      "[nltk_data]   Package stopwords is already up-to-date!\n",
      "[nltk_data] Downloading package punkt to\n",
      "[nltk_data]     C:\\Users\\kenneth\\AppData\\Roaming\\nltk_data...\n",
      "[nltk_data]   Package punkt is already up-to-date!\n"
     ]
    },
    {
     "data": {
      "text/plain": [
       "True"
      ]
     },
     "execution_count": 18,
     "metadata": {},
     "output_type": "execute_result"
    }
   ],
   "source": [
    "import pandas as pd\n",
    "import numpy as np\n",
    "import re\n",
    "from nltk.corpus import stopwords\n",
    "from nltk.stem.porter import PorterStemmer\n",
    "from sklearn.feature_extraction.text import TfidfVectorizer\n",
    "from sklearn.model_selection import train_test_split\n",
    "\n",
    "from sklearn.metrics import accuracy_score, precision_score, recall_score, f1_score, classification_report\n",
    "\n",
    "import joblib\n",
    "import warnings\n",
    "warnings.filterwarnings('ignore')\n",
    "\n",
    "\n",
    "import nltk\n",
    "nltk.download('stopwords')\n",
    "nltk.download('punkt')"
   ]
  },
  {
   "cell_type": "markdown",
   "metadata": {},
   "source": [
    "## 2. Define Helper Functions"
   ]
  },
  {
   "cell_type": "code",
   "execution_count": null,
   "metadata": {},
   "outputs": [],
   "source": [
    "def preprocess_text(text):\n",
    "\n",
    "    # Converting to lowercase\n",
    "    text = text.lower()\n",
    "    \n",
    "    # Handling repeated characters like gooooood  will change to good\n",
    "    text = re.sub(r'(.)\\1+', r'\\1\\1', text)\n",
    "    \n",
    "    # Keeping important punctuation and emojis as they may convey positive and negative expressions here\n",
    "    text = re.sub(r'[^a-zA-Z0-9\\s.,!?$%&*()_+\\-=\\[\\]{};\\'\"\\\\|,.<>\\/?]', ' ', text)\n",
    "    \n",
    "    # Handle negation words\n",
    "    negation_words = {'not', 'no', 'never', 'none', 'neither', 'nor', 'cannot', 'didnt', 'doesnt', \n",
    "                     'dont', 'hadnt', 'hasnt', 'havent', 'isnt', 'wasnt', 'werent', 'wont', 'wouldnt'}\n",
    "    \n",
    "    # Tokenizing \n",
    "    words = text.split()\n",
    "    \n",
    "    # Remove stopwords but keeping negation words\n",
    "    stop_words = set(stopwords.words('english')) - negation_words\n",
    "    words = [word for word in words if word not in stop_words]\n",
    "    \n",
    "    # Apply stemming, converting words to its root form \n",
    "    stemmer = PorterStemmer()\n",
    "    words = [stemmer.stem(word) for word in words]\n",
    "    \n",
    "    return ' '.join(words) #since it returns list of words we have to join them\n",
    "\n",
    "def categorize_text(text, target):\n",
    "    \n",
    "    return ['positive'] if target == 4 else ['negative']"
   ]
  },
  {
   "cell_type": "markdown",
   "metadata": {},
   "source": [
    "## 3. Load and Prepare Data"
   ]
  },
  {
   "cell_type": "code",
   "execution_count": null,
   "metadata": {},
   "outputs": [
    {
     "name": "stdout",
     "output_type": "stream",
     "text": [
      "Loading dataset...\n",
      "\n",
      "Dataset Shape: (1600000, 6)\n"
     ]
    }
   ],
   "source": [
    "column_names = ['target', 'id', 'date', 'flag', 'user', 'text']\n",
    "twitter_data = pd.read_csv('training.1600000.processed.noemoticon.csv',\n",
    "                          names=column_names,\n",
    "                          encoding='ISO-8859-1')\n",
    "\n",
    "\n",
    "print(\"Dataset Shape:\", twitter_data.shape) #shape of the dataset"
   ]
  },
  {
   "cell_type": "code",
   "execution_count": null,
   "metadata": {},
   "outputs": [
    {
     "name": "stdout",
     "output_type": "stream",
     "text": [
      "Categorizing content...\n",
      "\n",
      "Category Distribution:\n"
     ]
    },
    {
     "data": {
      "text/plain": [
       "categories\n",
       "[negative]    800000\n",
       "[positive]    800000\n",
       "Name: count, dtype: int64"
      ]
     },
     "execution_count": 57,
     "metadata": {},
     "output_type": "execute_result"
    }
   ],
   "source": [
    "# Converting target values to categories\n",
    "twitter_data['category'] = twitter_data['target'].map({0: 'negative', 4: 'positive'})\n",
    "\n",
    "# Applying categorization as defined in the earlier cell\n",
    "print(\"Categorizing content...\")\n",
    "twitter_data['categories'] = twitter_data.apply(lambda row: categorize_text(row['text'], row['target']), axis=1)\n",
    "\n",
    "# Displaying category distribution\n",
    "print(twitter_data['categories'].value_counts())"
   ]
  },
  {
   "cell_type": "markdown",
   "metadata": {},
   "source": [
    "## 4. Feature Extraction"
   ]
  },
  {
   "cell_type": "code",
   "execution_count": null,
   "metadata": {},
   "outputs": [
    {
     "name": "stdout",
     "output_type": "stream",
     "text": [
      "\n",
      "Extracting features...\n",
      "Fitting vectorizer...\n"
     ]
    }
   ],
   "source": [
    "# Fitting the vectorizer on the entire dataset\n",
    "vectorizer = TfidfVectorizer(\n",
    "    max_features=10000,  # keeping only 10000 most imp words\n",
    "    ngram_range=(1, 3), # helps make the model understand short phrases and not single words\n",
    "    min_df=2, # ignore words that appear less than 2 in documents\n",
    "    max_df=0.95, # ignore words that appear more than 95% in the documents. They act like stopwords\n",
    "    analyzer='word', # tells the vectorizer to analyze at the word level and not characters or something else\n",
    "    sublinear_tf=True # helps make the model more balanced if set to True\n",
    ")\n",
    "\n",
    "# Transforming the text data\n",
    "X = vectorizer.fit_transform(twitter_data['text'])\n",
    "\n",
    "# Converting target values to binary (0 for negative, 1 for positive)\n",
    "y = (twitter_data['target'] == 4).astype(int)\n",
    "\n",
    "# Splitting the data\n",
    "X_train, X_test, y_train, y_test = train_test_split(\n",
    "    X, y, test_size=0.2, random_state=42, stratify=y\n",
    ")"
   ]
  },
  {
   "cell_type": "markdown",
   "metadata": {},
   "source": [
    "## 5. Model Training"
   ]
  },
  {
   "cell_type": "code",
   "execution_count": null,
   "metadata": {},
   "outputs": [
    {
     "name": "stdout",
     "output_type": "stream",
     "text": [
      "\n",
      "Training model...\n",
      "Training on full dataset...\n",
      "Training completed!\n"
     ]
    }
   ],
   "source": [
    "# Initializing and train the model\n",
    "from sklearn.svm import LinearSVC\n",
    "\n",
    "# Initializing and train the model\n",
    "print(\"\\nTraining model...\")\n",
    "model = LinearSVC(class_weight='balanced', max_iter=1000, dual=False)\n",
    "\n",
    "# Training on the entire dataset at once\n",
    "print(\"Training on full dataset...\")\n",
    "model.fit(X_train, y_train)\n",
    "print(\"Training completed!\")"
   ]
  },
  {
   "cell_type": "markdown",
   "metadata": {},
   "source": [
    "## 6. Model Evaluation"
   ]
  },
  {
   "cell_type": "code",
   "execution_count": null,
   "metadata": {},
   "outputs": [
    {
     "name": "stdout",
     "output_type": "stream",
     "text": [
      "Evaluating model...\n"
     ]
    }
   ],
   "source": [
    "# Evaluating model\n",
    "y_pred = model.predict(X_test)\n",
    "\n",
    "# Calculating metrics\n",
    "accuracy = accuracy_score(y_test, y_pred)\n",
    "precision = precision_score(y_test, y_pred, average='weighted', zero_division=0)\n",
    "recall = recall_score(y_test, y_pred, average='weighted', zero_division=0)\n",
    "f1 = f1_score(y_test, y_pred, average='weighted', zero_division=0)"
   ]
  },
  {
   "cell_type": "code",
   "execution_count": null,
   "metadata": {},
   "outputs": [
    {
     "name": "stdout",
     "output_type": "stream",
     "text": [
      "Evaluating model...\n"
     ]
    },
    {
     "data": {
      "image/png": "[encoded data removed]",
      "text/plain": [
       "<Figure size 800x600 with 2 Axes>"
      ]
     },
     "metadata": {},
     "output_type": "display_data"
    },
    {
     "name": "stdout",
     "output_type": "stream",
     "text": [
      "\n",
      "Model Performance Metrics:\n",
      "Accuracy: 0.8040\n",
      "Precision: 0.8043\n",
      "Recall: 0.8040\n",
      "F1 Score: 0.8040\n",
      "\n",
      "Detailed Classification Report:\n",
      "              precision    recall  f1-score   support\n",
      "\n",
      "    Negative       0.81      0.79      0.80    160000\n",
      "    Positive       0.79      0.82      0.81    160000\n",
      "\n",
      "    accuracy                           0.80    320000\n",
      "   macro avg       0.80      0.80      0.80    320000\n",
      "weighted avg       0.80      0.80      0.80    320000\n",
      "\n"
     ]
    }
   ],
   "source": [
    "# Creating confusion matrix\n",
    "from sklearn.metrics import confusion_matrix\n",
    "import seaborn as sns\n",
    "import matplotlib.pyplot as plt\n",
    "\n",
    "# Calculate confusion matrix\n",
    "cm = confusion_matrix(y_test, y_pred)\n",
    "\n",
    "# Creating figure and axis\n",
    "plt.figure(figsize=(8, 6))\n",
    "\n",
    "# Creating heatmap\n",
    "sns.heatmap(cm, annot=True, fmt='d', cmap='Blues',\n",
    "            xticklabels=['Negative', 'Positive'],\n",
    "            yticklabels=['Negative', 'Positive'])\n",
    "\n",
    "plt.xlabel('Predicted')\n",
    "plt.ylabel('Actual')\n",
    "plt.title('Confusion Matrix')\n",
    "\n",
    "\n",
    "plt.show()\n",
    "\n",
    "\n",
    "print(\"Model Performance Metrics:\")\n",
    "print(f\"Accuracy: {accuracy:.4f}\")\n",
    "print(f\"Precision: {precision:.4f}\")\n",
    "print(f\"Recall: {recall:.4f}\")\n",
    "print(f\"F1 Score: {f1:.4f}\")\n",
    "\n",
    "# Print detailed classification report\n",
    "print(\"Detailed Classification Report:\")\n",
    "print(classification_report(y_test, y_pred, target_names=['Negative', 'Positive']))"
   ]
  },
  {
   "cell_type": "markdown",
   "metadata": {},
   "source": [
    "## 7. Testing with Example Texts"
   ]
  },
  {
   "cell_type": "code",
   "execution_count": null,
   "metadata": {},
   "outputs": [
    {
     "name": "stdout",
     "output_type": "stream",
     "text": [
      "Testing model with example texts...\n",
      "\n",
      "Text: 'This is a normal message'\n",
      "Predicted sentiment: Positive\n",
      "\n",
      "Text: 'Buy now! Limited time offer!'\n",
      "Predicted sentiment: Positive\n",
      "\n",
      "Text: 'I hate you all'\n",
      "Predicted sentiment: Negative\n",
      "\n",
      "Text: 'This is a helpful comment'\n",
      "Predicted sentiment: Positive\n",
      "\n",
      "Text: 'I will kill you all'\n",
      "Predicted sentiment: Negative\n",
      "\n",
      "Text: 'Hope your exams went well'\n",
      "Predicted sentiment: Positive\n"
     ]
    }
   ],
   "source": [
    "# Example predictions as a test\n",
    "print(\"Testing model with example texts...\")\n",
    "test_texts = [\n",
    "    \"This is a normal message\",\n",
    "    \"Buy now! Limited time offer!\",\n",
    "    \"I hate you all\",\n",
    "    \"This is a helpful comment\",\n",
    "    \"I will kill you all\",\n",
    "    \"Hope your exams went well\"\n",
    "]\n",
    "\n",
    "for text in test_texts:\n",
    "    processed_text = preprocess_text(text)\n",
    "    text_features = vectorizer.transform([processed_text])\n",
    "    prediction = model.predict(text_features)[0]\n",
    "    sentiment = \"Positive\" if prediction == 1 else \"Negative\"\n",
    "    print(f\"\\nText: '{text}'\")\n",
    "    print(f\"Predicted sentiment: {sentiment}\")"
   ]
  },
  {
   "cell_type": "code",
   "execution_count": null,
   "metadata": {},
   "outputs": [
    {
     "name": "stdout",
     "output_type": "stream",
     "text": [
      "\n",
      "Saving model and components...\n"
     ]
    },
    {
     "data": {
      "text/plain": [
       "['text_vectorizer.joblib']"
      ]
     },
     "execution_count": 68,
     "metadata": {},
     "output_type": "execute_result"
    }
   ],
   "source": [
    "\n",
    "# Save the model and components\n",
    "joblib.dump(model, 'content_moderation_model.joblib')\n",
    "joblib.dump(vectorizer, 'text_vectorizer.joblib')\n",
    "print(\"Saved the model successfully\")"
   ]
  }
 ],
 "metadata": {
  "kernelspec": {
   "display_name": "Python 3",
   "language": "python",
   "name": "python3"
  },
  "language_info": {
   "codemirror_mode": {
    "name": "ipython",
    "version": 3
   },
   "file_extension": ".py",
   "mimetype": "text/x-python",
   "name": "python",
   "nbconvert_exporter": "python",
   "pygments_lexer": "ipython3",
   "version": "3.8.0"
  }
 },
 "nbformat": 4,
 "nbformat_minor": 4
}
